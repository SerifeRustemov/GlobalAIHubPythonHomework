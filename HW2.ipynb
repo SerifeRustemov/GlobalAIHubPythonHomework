{
 "cells": [
  {
   "cell_type": "code",
   "execution_count": null,
   "metadata": {},
   "outputs": [],
   "source": [
    "#Serife Rustemov\n",
    "#Homework 2\n",
    "\n",
    "list1 = []\n",
    "fName = input(\"Please, enter your first name: \")\n",
    "list1.append(fName)\n",
    "lName = input(\"Please, enter your last name: \")\n",
    "list1.append(lName)\n",
    "age = int(input(\"Please, enter your age: \"))\n",
    "list1.append(age)\n",
    "dateOfBirth= int(input(\"Please, enter your date of birth: \"))\n",
    "list1.append(dateOfBirth)\n",
    "\n",
    "\n",
    "print()\n",
    "print()\n",
    "\n",
    "for i in range(len(list1)):\n",
    "    print(list1[i])\n",
    "\n",
    "if age < 18:\n",
    "    print(\"You can't go out because it's too dangerous!!\")\n",
    "else:\n",
    "    print(\"You can go out to the street.\")\n"
   ]
  },
  {
   "cell_type": "code",
   "execution_count": null,
   "metadata": {},
   "outputs": [],
   "source": []
  }
 ],
 "metadata": {
  "kernelspec": {
   "display_name": "Python 3",
   "language": "python",
   "name": "python3"
  },
  "language_info": {
   "codemirror_mode": {
    "name": "ipython",
    "version": 3
   },
   "file_extension": ".py",
   "mimetype": "text/x-python",
   "name": "python",
   "nbconvert_exporter": "python",
   "pygments_lexer": "ipython3",
   "version": "3.7.4"
  }
 },
 "nbformat": 4,
 "nbformat_minor": 2
}
