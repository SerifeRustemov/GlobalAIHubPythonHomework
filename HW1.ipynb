{
 "cells": [
  {
   "cell_type": "code",
   "execution_count": null,
   "metadata": {},
   "outputs": [],
   "source": [
    "#Serife RUSTEMOV\n",
    "#Homework 1\n",
    "\n",
    "input1 = int(input(\"Please, enter an integer value: \"))\n",
    "print(\"The first value is {}\".format(input1))\n",
    "print(f\"It's type is {type(input1)}\")\n",
    "        \n",
    "input2 = float(input(\"Please, enter a float value: \"))\n",
    "print(\"The second value is {}\".format(input2))\n",
    "print(f\"It's type is {type(input2)}\")\n",
    "\n",
    "input3 = input(\"Please, enter a string value: \")\n",
    "print(\"The third value is {}\".format(input3))\n",
    "print(f\"It's type is {type(input3)}\")\n",
    "\n",
    "input4 = bool(input(\"Please, enter a boolean value: \"))\n",
    "print(\"The fourth value is {}\".format(input4))\n",
    "print(f\"It's type is {type(input4)}\")\n",
    "\n",
    "input5 = int(input(\"Please, enter an integer value: \"))\n",
    "print(\"The fifth value is {}\".format(input5))\n",
    "print(f\"It's type is {type(input5)}\")\n"
   ]
  }
 ],
 "metadata": {
  "kernelspec": {
   "display_name": "Python 3",
   "language": "python",
   "name": "python3"
  },
  "language_info": {
   "codemirror_mode": {
    "name": "ipython",
    "version": 3
   },
   "file_extension": ".py",
   "mimetype": "text/x-python",
   "name": "python",
   "nbconvert_exporter": "python",
   "pygments_lexer": "ipython3",
   "version": "3.7.4"
  }
 },
 "nbformat": 4,
 "nbformat_minor": 2
}
